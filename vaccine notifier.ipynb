{
 "cells": [
  {
   "cell_type": "code",
   "execution_count": 2,
   "metadata": {},
   "outputs": [],
   "source": [
    "import requests\n",
    "import smtplib\n",
    "import time\n",
    "from datetime import datetime"
   ]
  },
  {
   "cell_type": "code",
   "execution_count": 11,
   "metadata": {},
   "outputs": [],
   "source": [
    "\n",
    "def send_email(TEXT):\n",
    "    s = smtplib.SMTP('smtp.gmail.com', 587)\n",
    "    s.starttls()\n",
    "    s.login(\"youremail@xxx.com\", \"xxxxxxxx\")\n",
    "    SUBJECT = 'Vaccine Available'\n",
    "    \n",
    "    message = 'Subject: {}\\n\\n{}'.format(SUBJECT, TEXT)\n",
    "    to = ['mailid1@xxx.com', 'mailid2@xxx.com', 'mailid3@xxx.com']\n",
    "\n",
    "    # sending the mail\n",
    "    s.sendmail(\"youremail@xxx.com\", to , message)\n",
    "\n",
    "    # terminating the session\n",
    "    s.quit()\n"
   ]
  },
  {
   "cell_type": "code",
   "execution_count": 9,
   "metadata": {},
   "outputs": [],
   "source": [
    "# api-endpoint\n",
    "URL = \"https://cdn-api.co-vin.in/api/v2/appointment/sessions/public/calendarByDistrict\"\n",
    "pincode = '400614'\n",
    "date = datetime.today().strftime('%d-%m-%Y')\n",
    "district_id = '392'\n",
    "PARAMS = {'district_id': district_id, 'date' : date}\n",
    "HEADERS = { 'User-Agent' : 'Mozilla/5.0 (Windows NT 10.0; Win64; x64) AppleWebKit/537.36 (KHTML, like Gecko) Chrome/90.0.4430.93 Safari/537.36 Edg/90.0.818.51'}\n"
   ]
  },
  {
   "cell_type": "code",
   "execution_count": null,
   "metadata": {},
   "outputs": [],
   "source": [
    "while(True):\n",
    "    r = requests.get(url = URL, params = PARAMS, headers = HEADERS)\n",
    "    data = r.json()\n",
    "    TEXT = ''\n",
    "    for center in data[\"centers\"]:\n",
    "        for session in center['sessions']:\n",
    "            if(session['available_capacity'] == 0 and session['min_age_limit'] == 18):\n",
    "                TEXT = TEXT + \"{} available with a capacity of {} at {} on {}. \\n\".format(session['vaccine'], \n",
    "                                                session['available_capacity'], center['address'],session['date'])\n",
    "                \n",
    "    send_email(TEXT)            \n",
    "    now = datetime.now()\n",
    "    current_time = now.strftime(\"%H:%M:%S\")\n",
    "    time.sleep(60)\n",
    "    print('Time : ', current_time)"
   ]
  }
 ],
 "metadata": {
  "kernelspec": {
   "display_name": "Python 3",
   "language": "python",
   "name": "python3"
  },
  "language_info": {
   "codemirror_mode": {
    "name": "ipython",
    "version": 3
   },
   "file_extension": ".py",
   "mimetype": "text/x-python",
   "name": "python",
   "nbconvert_exporter": "python",
   "pygments_lexer": "ipython3",
   "version": "3.7.3"
  }
 },
 "nbformat": 4,
 "nbformat_minor": 2
}
